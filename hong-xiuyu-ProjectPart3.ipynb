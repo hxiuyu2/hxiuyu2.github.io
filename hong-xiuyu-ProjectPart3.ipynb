{
 "cells": [
  {
   "cell_type": "markdown",
   "metadata": {},
   "source": [
    "# Smartphone can know what you are doing!\n",
    "### author: Xiuyu Hong  "
   ]
  },
  {
   "cell_type": "code",
   "execution_count": 1,
   "metadata": {},
   "outputs": [],
   "source": [
    "import pandas as pd\n",
    "import matplotlib.pyplot as plt\n",
    "import bqplot\n",
    "import numpy as np\n",
    "import ipywidgets"
   ]
  },
  {
   "cell_type": "markdown",
   "metadata": {},
   "source": [
    "Nowadays, we almost cannot live without our smartphone. We may think we know our smartphone well. But do you know how much your smartphone know about you? There was [an experiment](http://archive.ics.uci.edu/ml/datasets/human+activity+recognition+using+smartphones) conducted on 30 volunteers that may give us a rough idea of the answer to the question. In this blog, we will explore the dataset together and see whether our smartphones know our activities."
   ]
  },
  {
   "cell_type": "markdown",
   "metadata": {},
   "source": [
    "Dataset Reference: http://archive.ics.uci.edu/ml/datasets/human+activity+recognition+using+smartphones"
   ]
  },
  {
   "cell_type": "code",
   "execution_count": 2,
   "metadata": {},
   "outputs": [],
   "source": [
    "# read in preprocessed data, saved to CSV last time\n",
    "data = pd.read_csv('uci_har.csv')\n",
    "data = data.astype({'label':'int'})\n",
    "data = data[data.columns[1:]]"
   ]
  },
  {
   "cell_type": "code",
   "execution_count": 3,
   "metadata": {},
   "outputs": [],
   "source": [
    "# read label names from file \n",
    "label_name = []\n",
    "with open('UCI HAR Dataset/activity_labels.txt') as f:\n",
    "    line = 'init'\n",
    "    while line:\n",
    "        line = f.readline().strip()\n",
    "        if len(line) > 0:\n",
    "            label_name.append(line.split()[1])"
   ]
  },
  {
   "cell_type": "markdown",
   "metadata": {},
   "source": [
    "Let's first look at what labels do we have in this dataset. And how are they distributed. From the plot, we can see that there are 6 labels:\n",
    "```\n",
    " 'WALKING',\n",
    " 'WALKING_UPSTAIRS',\n",
    " 'WALKING_DOWNSTAIRS',\n",
    " 'SITTING',\n",
    " 'STANDING',\n",
    " 'LAYING'\n",
    "```\n",
    "The labels are distributed evenly in the dataset. Looks like our volunteers are living a healthy life!"
   ]
  },
  {
   "cell_type": "code",
   "execution_count": 4,
   "metadata": {},
   "outputs": [
    {
     "data": {
      "image/png": "[encoded data removed]",
      "text/plain": [
       "<Figure size 432x288 with 1 Axes>"
      ]
     },
     "metadata": {
      "needs_background": "light"
     },
     "output_type": "display_data"
    }
   ],
   "source": [
    "plt.hist(data.label,bins=6)\n",
    "plt.xticks([1,2,3,4,5,6], label_name, rotation = 45)\n",
    "plt.show()"
   ]
  },
  {
   "cell_type": "code",
   "execution_count": 5,
   "metadata": {},
   "outputs": [],
   "source": [
    "# remove the first column from users' option\n",
    "feature_names = data.columns"
   ]
  },
  {
   "cell_type": "code",
   "execution_count": 6,
   "metadata": {},
   "outputs": [],
   "source": [
    "feature_names = feature_names[:10]"
   ]
  },
  {
   "cell_type": "code",
   "execution_count": 7,
   "metadata": {},
   "outputs": [],
   "source": [
    "# make a color map\n",
    "categories = np.unique(data['label'])\n",
    "colors = ['#FA8072', '#800000', '#ADD8E6', '#228B22', '#FFFF00', '#800080']\n",
    "colordict = dict(zip(categories, colors))  "
   ]
  },
  {
   "cell_type": "code",
   "execution_count": 8,
   "metadata": {},
   "outputs": [],
   "source": [
    "# attach the color map to the dataframe\n",
    "data[\"Color\"] = data['label'].apply(lambda x: colordict[x])"
   ]
  },
  {
   "cell_type": "code",
   "execution_count": 9,
   "metadata": {},
   "outputs": [],
   "source": [
    "# (1) scales\n",
    "x_scl = bqplot.LinearScale() \n",
    "y_scl = bqplot.LinearScale()\n",
    "\n",
    "# (2) Axis\n",
    "ax_xcl = bqplot.Axis(label='X axis', scale=x_scl)\n",
    "ax_ycl = bqplot.Axis(label='Y axis', scale=y_scl, orientation='vertical', side='left')\n",
    "\n",
    "# (3) Marks\n",
    "i,j = 0,0\n",
    "x_name = feature_names[j]\n",
    "y_name = feature_names[i]\n",
    "\n",
    "activity_scatt = bqplot.Scatter(x = data[x_name],\n",
    "                               y = data[y_name], \n",
    "                                colors = data.Color.values.tolist(),\n",
    "                              scales={'x':x_scl, 'y':y_scl})"
   ]
  },
  {
   "cell_type": "code",
   "execution_count": 10,
   "metadata": {},
   "outputs": [],
   "source": [
    "cor_matrix = data[feature_names].corr()"
   ]
  },
  {
   "cell_type": "code",
   "execution_count": 11,
   "metadata": {},
   "outputs": [],
   "source": [
    "# (1) scales - colors, x & y\n",
    "col_sc = bqplot.ColorScale(scheme=\"RdPu\", \n",
    "                           min=np.nanmin(cor_matrix), \n",
    "                           max=np.nanmax(cor_matrix))\n",
    "x_sc = bqplot.OrdinalScale()\n",
    "y_sc = bqplot.OrdinalScale()\n",
    "\n",
    "# (2) create axis - for colors, x & y\n",
    "c_ax = bqplot.ColorAxis(scale = col_sc, \n",
    "                        orientation = 'vertical', \n",
    "                        side = 'right')\n",
    "\n",
    "x_ax = bqplot.Axis(scale = x_sc, label='X Axis')\n",
    "y_ax = bqplot.Axis(scale = y_sc, orientation = 'vertical', label = 'Y Axis')\n",
    "\n",
    "# (3) Marks\n",
    "heat_map = bqplot.GridHeatMap(color = cor_matrix,\n",
    "                              row = feature_names, \n",
    "                              column = feature_names,\n",
    "                              scales = {'color': col_sc,\n",
    "                                        'row': y_sc,\n",
    "                                        'column': x_sc},\n",
    "                              interactions = {'click': 'select'},\n",
    "                              anchor_style = {'fill':'blue'}, \n",
    "                              selected_style = {'opacity': 1.0},\n",
    "                              unselected_style = {'opacity': 1.0})"
   ]
  },
  {
   "cell_type": "code",
   "execution_count": 12,
   "metadata": {},
   "outputs": [],
   "source": [
    "myInfoLabel = ipywidgets.Label()\n",
    "v = v = cor_matrix[x_name][y_name]\n",
    "myInfoLabel.value = 'X axis is {}, y axis is {}, their correlation is {}'.format(x_name, y_name, v)"
   ]
  },
  {
   "cell_type": "code",
   "execution_count": 13,
   "metadata": {},
   "outputs": [],
   "source": [
    "def get_data_value(change):\n",
    "    if len(change['owner'].selected) == 1: #only 1 selected\n",
    "        i,j = change['owner'].selected[0] \n",
    "        x_name = feature_names[j]\n",
    "        y_name = feature_names[i]\n",
    "        v = cor_matrix[x_name][y_name]\n",
    "        myInfoLabel.value = 'X axis is {}, y axis is {}, their correlation is {}'.format(x_name, y_name, v)\n",
    "        activity_scatt.x = data[x_name]\n",
    "        activity_scatt.y = data[y_name]\n",
    "        \n",
    "heat_map.observe(get_data_value, 'selected')"
   ]
  },
  {
   "cell_type": "code",
   "execution_count": 14,
   "metadata": {},
   "outputs": [],
   "source": [
    "# (5) create figures\n",
    "fig_heatmap = bqplot.Figure(marks = [heat_map], axes = [c_ax, y_ax, x_ax])\n",
    "fig_dur = bqplot.Figure(marks = [activity_scatt], axes = [ax_xcl, ax_ycl])"
   ]
  },
  {
   "cell_type": "markdown",
   "metadata": {},
   "source": [
    "Here we will show an interactive plot of how two of all these features can tell what we are doing.   \n",
    "  \n",
    "  The left part shows how related the two features are. The deeper the color, the more related they are.   \n",
    "    \n",
    "If you click on the cell, you can see how the labels are separated with these two features. "
   ]
  },
  {
   "cell_type": "code",
   "execution_count": 15,
   "metadata": {},
   "outputs": [
    {
     "data": {
      "application/vnd.jupyter.widget-view+json": {
       "model_id": "ed9392d626964cf2a41554c7245825d1",
       "version_major": 2,
       "version_minor": 0
      },
      "text/plain": [
       "VBox(children=(Label(value='X axis is tBodyAcc-mean()-X, y axis is tBodyAcc-mean()-X, their correlation is 1.0…"
      ]
     },
     "metadata": {},
     "output_type": "display_data"
    }
   ],
   "source": [
    "fig_heatmap.layout.min_width='500px'\n",
    "fig_dur.layout.min_width='500px'\n",
    "\n",
    "myDashboard = ipywidgets.VBox([myInfoLabel, ipywidgets.HBox([fig_heatmap,fig_dur])])\n",
    "myDashboard"
   ]
  },
  {
   "cell_type": "markdown",
   "metadata": {},
   "source": [
    "Now, we had an idea of what effect do the features have separately on the prediction. We can look into how they perform together.   \n",
    "  \n",
    "  In the following plot, each point is a sample. They are colored with the label they are corresponding to. The axis are some transformation of all the features. From this plot, we can conclude that the smartphone can tell at least whether we are laying or not!"
   ]
  },
  {
   "cell_type": "markdown",
   "metadata": {},
   "source": [
    "![](context.png)"
   ]
  },
  {
   "cell_type": "markdown",
   "metadata": {},
   "source": [
    "Reference: https://www.kaggle.com/morrisb/what-does-your-smartphone-know-about-you"
   ]
  }
 ],
 "metadata": {
  "kernelspec": {
   "display_name": "Python 3",
   "language": "python",
   "name": "python3"
  },
  "language_info": {
   "codemirror_mode": {
    "name": "ipython",
    "version": 3
   },
   "file_extension": ".py",
   "mimetype": "text/x-python",
   "name": "python",
   "nbconvert_exporter": "python",
   "pygments_lexer": "ipython3",
   "version": "3.7.1"
  }
 },
 "nbformat": 4,
 "nbformat_minor": 2
}
